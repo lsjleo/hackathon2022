{
 "cells": [
  {
   "cell_type": "code",
   "execution_count": null,
   "metadata": {},
   "outputs": [],
   "source": [
    "import numpy as np\n",
    "import skfuzzy as fuzz\n",
    "from skfuzzy import control as ctrl\n",
    "\n",
    "\n",
    "a = ctrl.Antecedent(np.arange(0, 5, 1), 'avaliacao')\n",
    "b = ctrl.Antecedent(np.arange(0, 5, 1), 'agilidade')\n",
    "c = ctrl.Antecedent(np.arange(0, 5, 1), 'funcionalidade')\n",
    "skill = ctrl.Consequent(np.arange(0, 26, 1), 'skill')\n",
    "\n",
    "\n",
    "a.automf(3)\n",
    "b.automf(3)\n",
    "c.automf(3)\n",
    "\n",
    "skill['low'] = fuzz.trimf(skill.universe, [0, 0, 13])\n",
    "skill['medium'] = fuzz.trimf(skill.universe, [0, 13, 25])\n",
    "skill['high'] = fuzz.trimf(skill.universe, [13, 25, 25])\n",
    "\n",
    "rule1 = ctrl.Rule(a['poor'] | b['poor'], skill['low'])\n",
    "rule2 = ctrl.Rule(a['average'], skill['medium'])\n",
    "rule3 = ctrl.Rule(c['good'] | b['good'], skill['high'])\n",
    "\n",
    "tipping_ctrl = ctrl.ControlSystem([rule1, rule2, rule3])\n",
    "tipping = ctrl.ControlSystemSimulation(tipping_ctrl)\n",
    "\n",
    "tipping.input['avaliacao'] = 5\n",
    "tipping.input['agilidade'] = 1\n",
    "tipping.input['funcionalidade'] = 1\n",
    "\n",
    "tipping.compute()\n",
    "skill.view(sim=tipping)\n",
    "\n",
    "fuzzyout = (tipping.output['skill'] / 25) * 100\n",
    "\n",
    "if fuzzyout < 33:\n",
    "    cat = 'JUNIOR'\n",
    "elif fuzzyout >= 33 and fuzzyout < 66:\n",
    "    cat = 'PLENO'\n",
    "else:\n",
    "    cat = 'SENIOR'\n",
    "    \n",
    "print(fuzzyout,cat)"
   ]
  }
 ],
 "metadata": {
  "language_info": {
   "name": "python"
  },
  "orig_nbformat": 4
 },
 "nbformat": 4,
 "nbformat_minor": 2
}
